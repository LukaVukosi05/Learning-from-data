{
 "cells": [
  {
   "cell_type": "markdown",
   "id": "d1a09259-48a9-4f1e-b79c-d981d3cec13b",
   "metadata": {},
   "source": [
    "# Learning From Data Assignment 2\n",
    "\n",
    "Author: Luka Vukosi Nyathi\n",
    "\n",
    "Student No: 221063328\n",
    "\n",
    "Data Source: [www.kaggle.com]\n",
    "\n",
    "GitHub Link: [https://github.com/LukaVukosi05/Learning-from-data.git]\n",
    "\n",
    "<img src=\"python3.png\" width:800 height:150 style:display>"
   ]
  },
  {
   "cell_type": "markdown",
   "id": "9d245438-f192-48ec-a573-3578fda003bd",
   "metadata": {},
   "source": [
    "## About The Data\n",
    "\n",
    "#### Student Study Performance\n",
    "\n",
    "This dataset  is about the performance of students across different subjects which are maths, reading and writing, the data consists of 1000 participant and 8 columns which are:\n",
    "\n",
    "1. Gender - the gender of the students (male/female)\n",
    "2. Ethncity - the race of each student (A - E)\n",
    "3. Parents Education level - the level of each students parents level of education (High School - Masters Degree)\n",
    "4. Lunch - if whether the students eats luch before tests\n",
    "5. Preperation Test - if whether completed the preperation test before tests\n",
    "6. Scores - the scores students recieved across all subjects \n"
   ]
  },
  {
   "cell_type": "markdown",
   "id": "8d62eed8-dc3a-4e2b-94f1-78bdf435b36c",
   "metadata": {},
   "source": [
    "#### All Imported Python Libraries"
   ]
  },
  {
   "cell_type": "code",
   "execution_count": 11,
   "id": "9800fb13-b2fd-4f35-9054-b4a19ee743b1",
   "metadata": {},
   "outputs": [],
   "source": [
    "import numpy as np\n",
    "import pandas as pd\n",
    "import seaborn as sns\n",
    "import matplotlib.pyplot as plt\n",
    "import numpy as np\n"
   ]
  },
  {
   "cell_type": "markdown",
   "id": "e3646b55-6351-4927-ac81-4335635742a7",
   "metadata": {},
   "source": [
    "#### Importing our dataset"
   ]
  },
  {
   "cell_type": "code",
   "execution_count": 17,
   "id": "0cab4282-b5f4-4d4e-9c10-231a4b9d20bc",
   "metadata": {},
   "outputs": [
    {
     "data": {
      "text/html": [
       "<div>\n",
       "<style scoped>\n",
       "    .dataframe tbody tr th:only-of-type {\n",
       "        vertical-align: middle;\n",
       "    }\n",
       "\n",
       "    .dataframe tbody tr th {\n",
       "        vertical-align: top;\n",
       "    }\n",
       "\n",
       "    .dataframe thead th {\n",
       "        text-align: right;\n",
       "    }\n",
       "</style>\n",
       "<table border=\"1\" class=\"dataframe\">\n",
       "  <thead>\n",
       "    <tr style=\"text-align: right;\">\n",
       "      <th></th>\n",
       "      <th>gender</th>\n",
       "      <th>race_ethnicity</th>\n",
       "      <th>parental_level_of_education</th>\n",
       "      <th>lunch</th>\n",
       "      <th>test_preparation_course</th>\n",
       "      <th>math_score</th>\n",
       "      <th>reading_score</th>\n",
       "      <th>writing_score</th>\n",
       "    </tr>\n",
       "  </thead>\n",
       "  <tbody>\n",
       "    <tr>\n",
       "      <th>0</th>\n",
       "      <td>female</td>\n",
       "      <td>group B</td>\n",
       "      <td>bachelor's degree</td>\n",
       "      <td>standard</td>\n",
       "      <td>none</td>\n",
       "      <td>72</td>\n",
       "      <td>72</td>\n",
       "      <td>74</td>\n",
       "    </tr>\n",
       "    <tr>\n",
       "      <th>1</th>\n",
       "      <td>female</td>\n",
       "      <td>group C</td>\n",
       "      <td>some college</td>\n",
       "      <td>standard</td>\n",
       "      <td>completed</td>\n",
       "      <td>69</td>\n",
       "      <td>90</td>\n",
       "      <td>88</td>\n",
       "    </tr>\n",
       "    <tr>\n",
       "      <th>2</th>\n",
       "      <td>female</td>\n",
       "      <td>group B</td>\n",
       "      <td>master's degree</td>\n",
       "      <td>standard</td>\n",
       "      <td>none</td>\n",
       "      <td>90</td>\n",
       "      <td>95</td>\n",
       "      <td>93</td>\n",
       "    </tr>\n",
       "    <tr>\n",
       "      <th>3</th>\n",
       "      <td>male</td>\n",
       "      <td>group A</td>\n",
       "      <td>associate's degree</td>\n",
       "      <td>free/reduced</td>\n",
       "      <td>none</td>\n",
       "      <td>47</td>\n",
       "      <td>57</td>\n",
       "      <td>44</td>\n",
       "    </tr>\n",
       "    <tr>\n",
       "      <th>4</th>\n",
       "      <td>male</td>\n",
       "      <td>group C</td>\n",
       "      <td>some college</td>\n",
       "      <td>standard</td>\n",
       "      <td>none</td>\n",
       "      <td>76</td>\n",
       "      <td>78</td>\n",
       "      <td>75</td>\n",
       "    </tr>\n",
       "    <tr>\n",
       "      <th>5</th>\n",
       "      <td>female</td>\n",
       "      <td>group B</td>\n",
       "      <td>associate's degree</td>\n",
       "      <td>standard</td>\n",
       "      <td>none</td>\n",
       "      <td>71</td>\n",
       "      <td>83</td>\n",
       "      <td>78</td>\n",
       "    </tr>\n",
       "    <tr>\n",
       "      <th>6</th>\n",
       "      <td>female</td>\n",
       "      <td>group B</td>\n",
       "      <td>some college</td>\n",
       "      <td>standard</td>\n",
       "      <td>completed</td>\n",
       "      <td>88</td>\n",
       "      <td>95</td>\n",
       "      <td>92</td>\n",
       "    </tr>\n",
       "    <tr>\n",
       "      <th>7</th>\n",
       "      <td>male</td>\n",
       "      <td>group B</td>\n",
       "      <td>some college</td>\n",
       "      <td>free/reduced</td>\n",
       "      <td>none</td>\n",
       "      <td>40</td>\n",
       "      <td>43</td>\n",
       "      <td>39</td>\n",
       "    </tr>\n",
       "    <tr>\n",
       "      <th>8</th>\n",
       "      <td>male</td>\n",
       "      <td>group D</td>\n",
       "      <td>high school</td>\n",
       "      <td>free/reduced</td>\n",
       "      <td>completed</td>\n",
       "      <td>64</td>\n",
       "      <td>64</td>\n",
       "      <td>67</td>\n",
       "    </tr>\n",
       "  </tbody>\n",
       "</table>\n",
       "</div>"
      ],
      "text/plain": [
       "   gender race_ethnicity parental_level_of_education         lunch  \\\n",
       "0  female        group B           bachelor's degree      standard   \n",
       "1  female        group C                some college      standard   \n",
       "2  female        group B             master's degree      standard   \n",
       "3    male        group A          associate's degree  free/reduced   \n",
       "4    male        group C                some college      standard   \n",
       "5  female        group B          associate's degree      standard   \n",
       "6  female        group B                some college      standard   \n",
       "7    male        group B                some college  free/reduced   \n",
       "8    male        group D                 high school  free/reduced   \n",
       "\n",
       "  test_preparation_course  math_score  reading_score  writing_score  \n",
       "0                    none          72             72             74  \n",
       "1               completed          69             90             88  \n",
       "2                    none          90             95             93  \n",
       "3                    none          47             57             44  \n",
       "4                    none          76             78             75  \n",
       "5                    none          71             83             78  \n",
       "6               completed          88             95             92  \n",
       "7                    none          40             43             39  \n",
       "8               completed          64             64             67  "
      ]
     },
     "execution_count": 17,
     "metadata": {},
     "output_type": "execute_result"
    }
   ],
   "source": [
    "dataset = pd.read_csv('study_performance 6.csv')\n",
    "dataset.head(9)"
   ]
  },
  {
   "cell_type": "code",
   "execution_count": 7,
   "id": "10e93ea7-1042-4744-a33f-30a3b668be17",
   "metadata": {},
   "outputs": [
    {
     "name": "stdout",
     "output_type": "stream",
     "text": [
      "The Dataset contains:  (1000, 8)\n"
     ]
    }
   ],
   "source": [
    "Data_shape = dataset.shape\n",
    "print(\"The Dataset contains: \", Data_shape)"
   ]
  },
  {
   "cell_type": "markdown",
   "id": "a9a4113b-0fa0-4c10-a06c-2aaf6bca34f8",
   "metadata": {},
   "source": [
    "## Data Cleaning and Preparation\n",
    "1. checking for missing values\n",
    "2. checking for duplicate rows\n",
    "4. checking mispelled values and columns\n",
    "5. dropping columns that wont be used\n"
   ]
  },
  {
   "cell_type": "markdown",
   "id": "0c860a89-6c96-4cfc-875f-8cb0aee2bab6",
   "metadata": {},
   "source": [
    "#### Checking missing values"
   ]
  },
  {
   "cell_type": "code",
   "execution_count": 56,
   "id": "e8e992b8-904b-4750-b92c-8bc904af7644",
   "metadata": {},
   "outputs": [
    {
     "data": {
      "text/html": [
       "<div>\n",
       "<style scoped>\n",
       "    .dataframe tbody tr th:only-of-type {\n",
       "        vertical-align: middle;\n",
       "    }\n",
       "\n",
       "    .dataframe tbody tr th {\n",
       "        vertical-align: top;\n",
       "    }\n",
       "\n",
       "    .dataframe thead th {\n",
       "        text-align: right;\n",
       "    }\n",
       "</style>\n",
       "<table border=\"1\" class=\"dataframe\">\n",
       "  <thead>\n",
       "    <tr style=\"text-align: right;\">\n",
       "      <th></th>\n",
       "      <th>0</th>\n",
       "    </tr>\n",
       "  </thead>\n",
       "  <tbody>\n",
       "    <tr>\n",
       "      <th>gender</th>\n",
       "      <td>0</td>\n",
       "    </tr>\n",
       "    <tr>\n",
       "      <th>race_ethnicity</th>\n",
       "      <td>0</td>\n",
       "    </tr>\n",
       "    <tr>\n",
       "      <th>parental_level_of_education</th>\n",
       "      <td>0</td>\n",
       "    </tr>\n",
       "    <tr>\n",
       "      <th>lunch</th>\n",
       "      <td>0</td>\n",
       "    </tr>\n",
       "    <tr>\n",
       "      <th>test_preparation_course</th>\n",
       "      <td>0</td>\n",
       "    </tr>\n",
       "    <tr>\n",
       "      <th>math_score</th>\n",
       "      <td>0</td>\n",
       "    </tr>\n",
       "    <tr>\n",
       "      <th>reading_score</th>\n",
       "      <td>0</td>\n",
       "    </tr>\n",
       "    <tr>\n",
       "      <th>writing_score</th>\n",
       "      <td>0</td>\n",
       "    </tr>\n",
       "  </tbody>\n",
       "</table>\n",
       "</div>"
      ],
      "text/plain": [
       "                             0\n",
       "gender                       0\n",
       "race_ethnicity               0\n",
       "parental_level_of_education  0\n",
       "lunch                        0\n",
       "test_preparation_course      0\n",
       "math_score                   0\n",
       "reading_score                0\n",
       "writing_score                0"
      ]
     },
     "execution_count": 56,
     "metadata": {},
     "output_type": "execute_result"
    }
   ],
   "source": [
    "missing_value = dataset.isnull().sum()\n",
    "frame = pd.DataFrame(missing_value)\n",
    "df"
   ]
  },
  {
   "cell_type": "markdown",
   "id": "23888cd1-30ca-4282-9a13-1a324e0c1232",
   "metadata": {},
   "source": [
    "#### Dropping duplicate rows"
   ]
  },
  {
   "cell_type": "code",
   "execution_count": 60,
   "id": "fc931d8b-87b5-44fa-a294-13d35fc876e7",
   "metadata": {},
   "outputs": [
    {
     "data": {
      "text/html": [
       "<div>\n",
       "<style scoped>\n",
       "    .dataframe tbody tr th:only-of-type {\n",
       "        vertical-align: middle;\n",
       "    }\n",
       "\n",
       "    .dataframe tbody tr th {\n",
       "        vertical-align: top;\n",
       "    }\n",
       "\n",
       "    .dataframe thead th {\n",
       "        text-align: right;\n",
       "    }\n",
       "</style>\n",
       "<table border=\"1\" class=\"dataframe\">\n",
       "  <thead>\n",
       "    <tr style=\"text-align: right;\">\n",
       "      <th></th>\n",
       "      <th>gender</th>\n",
       "      <th>race_ethnicity</th>\n",
       "      <th>parental_level_of_education</th>\n",
       "      <th>lunch</th>\n",
       "      <th>test_preparation_course</th>\n",
       "      <th>math_score</th>\n",
       "      <th>reading_score</th>\n",
       "      <th>writing_score</th>\n",
       "    </tr>\n",
       "  </thead>\n",
       "  <tbody>\n",
       "    <tr>\n",
       "      <th>0</th>\n",
       "      <td>female</td>\n",
       "      <td>group B</td>\n",
       "      <td>bachelor's degree</td>\n",
       "      <td>standard</td>\n",
       "      <td>none</td>\n",
       "      <td>72</td>\n",
       "      <td>72</td>\n",
       "      <td>74</td>\n",
       "    </tr>\n",
       "    <tr>\n",
       "      <th>1</th>\n",
       "      <td>female</td>\n",
       "      <td>group C</td>\n",
       "      <td>some college</td>\n",
       "      <td>standard</td>\n",
       "      <td>completed</td>\n",
       "      <td>69</td>\n",
       "      <td>90</td>\n",
       "      <td>88</td>\n",
       "    </tr>\n",
       "    <tr>\n",
       "      <th>2</th>\n",
       "      <td>female</td>\n",
       "      <td>group B</td>\n",
       "      <td>master's degree</td>\n",
       "      <td>standard</td>\n",
       "      <td>none</td>\n",
       "      <td>90</td>\n",
       "      <td>95</td>\n",
       "      <td>93</td>\n",
       "    </tr>\n",
       "    <tr>\n",
       "      <th>3</th>\n",
       "      <td>male</td>\n",
       "      <td>group A</td>\n",
       "      <td>associate's degree</td>\n",
       "      <td>free/reduced</td>\n",
       "      <td>none</td>\n",
       "      <td>47</td>\n",
       "      <td>57</td>\n",
       "      <td>44</td>\n",
       "    </tr>\n",
       "    <tr>\n",
       "      <th>4</th>\n",
       "      <td>male</td>\n",
       "      <td>group C</td>\n",
       "      <td>some college</td>\n",
       "      <td>standard</td>\n",
       "      <td>none</td>\n",
       "      <td>76</td>\n",
       "      <td>78</td>\n",
       "      <td>75</td>\n",
       "    </tr>\n",
       "    <tr>\n",
       "      <th>5</th>\n",
       "      <td>female</td>\n",
       "      <td>group B</td>\n",
       "      <td>associate's degree</td>\n",
       "      <td>standard</td>\n",
       "      <td>none</td>\n",
       "      <td>71</td>\n",
       "      <td>83</td>\n",
       "      <td>78</td>\n",
       "    </tr>\n",
       "  </tbody>\n",
       "</table>\n",
       "</div>"
      ],
      "text/plain": [
       "   gender race_ethnicity parental_level_of_education         lunch  \\\n",
       "0  female        group B           bachelor's degree      standard   \n",
       "1  female        group C                some college      standard   \n",
       "2  female        group B             master's degree      standard   \n",
       "3    male        group A          associate's degree  free/reduced   \n",
       "4    male        group C                some college      standard   \n",
       "5  female        group B          associate's degree      standard   \n",
       "\n",
       "  test_preparation_course  math_score  reading_score  writing_score  \n",
       "0                    none          72             72             74  \n",
       "1               completed          69             90             88  \n",
       "2                    none          90             95             93  \n",
       "3                    none          47             57             44  \n",
       "4                    none          76             78             75  \n",
       "5                    none          71             83             78  "
      ]
     },
     "execution_count": 60,
     "metadata": {},
     "output_type": "execute_result"
    }
   ],
   "source": [
    "dataset = dataset.drop_duplicates()\n",
    "dataset.head(6)"
   ]
  },
  {
   "cell_type": "code",
   "execution_count": 61,
   "id": "6e819e9a-b2a6-4668-93eb-fc1202802096",
   "metadata": {},
   "outputs": [
    {
     "data": {
      "text/plain": [
       "(1000, 8)"
      ]
     },
     "execution_count": 61,
     "metadata": {},
     "output_type": "execute_result"
    }
   ],
   "source": [
    "dataset.shape"
   ]
  },
  {
   "cell_type": "markdown",
   "id": "682ddf3d-d933-4aca-9a98-1099aab20549",
   "metadata": {},
   "source": [
    "The dataset is still remains with 1000 rows, meaning there was no duplicate rows found"
   ]
  },
  {
   "cell_type": "markdown",
   "id": "e63ce8b3-d41f-4087-8310-7be093063323",
   "metadata": {},
   "source": [
    "#### Checking spellings and renaming columns"
   ]
  },
  {
   "cell_type": "code",
   "execution_count": 66,
   "id": "5432c43d-0ef7-427e-82fa-325c86385d04",
   "metadata": {},
   "outputs": [
    {
     "data": {
      "text/html": [
       "<div>\n",
       "<style scoped>\n",
       "    .dataframe tbody tr th:only-of-type {\n",
       "        vertical-align: middle;\n",
       "    }\n",
       "\n",
       "    .dataframe tbody tr th {\n",
       "        vertical-align: top;\n",
       "    }\n",
       "\n",
       "    .dataframe thead th {\n",
       "        text-align: right;\n",
       "    }\n",
       "</style>\n",
       "<table border=\"1\" class=\"dataframe\">\n",
       "  <thead>\n",
       "    <tr style=\"text-align: right;\">\n",
       "      <th></th>\n",
       "      <th>0</th>\n",
       "    </tr>\n",
       "  </thead>\n",
       "  <tbody>\n",
       "    <tr>\n",
       "      <th>gender</th>\n",
       "      <td>0</td>\n",
       "    </tr>\n",
       "    <tr>\n",
       "      <th>race_ethnicity</th>\n",
       "      <td>0</td>\n",
       "    </tr>\n",
       "    <tr>\n",
       "      <th>parental_level_of_education</th>\n",
       "      <td>0</td>\n",
       "    </tr>\n",
       "    <tr>\n",
       "      <th>lunch</th>\n",
       "      <td>0</td>\n",
       "    </tr>\n",
       "    <tr>\n",
       "      <th>test_preparation_course</th>\n",
       "      <td>0</td>\n",
       "    </tr>\n",
       "    <tr>\n",
       "      <th>math_score</th>\n",
       "      <td>0</td>\n",
       "    </tr>\n",
       "    <tr>\n",
       "      <th>reading_score</th>\n",
       "      <td>0</td>\n",
       "    </tr>\n",
       "    <tr>\n",
       "      <th>writing_score</th>\n",
       "      <td>0</td>\n",
       "    </tr>\n",
       "  </tbody>\n",
       "</table>\n",
       "</div>"
      ],
      "text/plain": [
       "                             0\n",
       "gender                       0\n",
       "race_ethnicity               0\n",
       "parental_level_of_education  0\n",
       "lunch                        0\n",
       "test_preparation_course      0\n",
       "math_score                   0\n",
       "reading_score                0\n",
       "writing_score                0"
      ]
     },
     "execution_count": 66,
     "metadata": {},
     "output_type": "execute_result"
    }
   ],
   "source": [
    "Categories = dataset.columns\n",
    "frame2 = pd.DataFrame(Categories)\n",
    "df"
   ]
  },
  {
   "cell_type": "code",
   "execution_count": null,
   "id": "668a93ed-343a-4055-9d4f-2e0bf9a75df2",
   "metadata": {},
   "outputs": [],
   "source": []
  },
  {
   "cell_type": "markdown",
   "id": "016f8893-6f6f-4481-b21e-349303d254e1",
   "metadata": {},
   "source": [
    "Some column names have been renamed in order to make it easier for analysis and "
   ]
  },
  {
   "cell_type": "markdown",
   "id": "4b03de60-b473-452c-8472-8e6afd6ef631",
   "metadata": {},
   "source": [
    "#### Dropping unused columns"
   ]
  },
  {
   "cell_type": "code",
   "execution_count": 164,
   "id": "b3208578-316c-43c3-9472-f7d6d97ce49e",
   "metadata": {},
   "outputs": [
    {
     "data": {
      "text/html": [
       "<div>\n",
       "<style scoped>\n",
       "    .dataframe tbody tr th:only-of-type {\n",
       "        vertical-align: middle;\n",
       "    }\n",
       "\n",
       "    .dataframe tbody tr th {\n",
       "        vertical-align: top;\n",
       "    }\n",
       "\n",
       "    .dataframe thead th {\n",
       "        text-align: right;\n",
       "    }\n",
       "</style>\n",
       "<table border=\"1\" class=\"dataframe\">\n",
       "  <thead>\n",
       "    <tr style=\"text-align: right;\">\n",
       "      <th></th>\n",
       "      <th>gender</th>\n",
       "      <th>race_ethnicity</th>\n",
       "      <th>parental_level_of_education</th>\n",
       "      <th>lunch</th>\n",
       "      <th>test_preparation_course</th>\n",
       "      <th>math_score</th>\n",
       "      <th>reading_score</th>\n",
       "      <th>writing_score</th>\n",
       "    </tr>\n",
       "  </thead>\n",
       "  <tbody>\n",
       "    <tr>\n",
       "      <th>0</th>\n",
       "      <td>female</td>\n",
       "      <td>group B</td>\n",
       "      <td>bachelor's degree</td>\n",
       "      <td>standard</td>\n",
       "      <td>none</td>\n",
       "      <td>72</td>\n",
       "      <td>72</td>\n",
       "      <td>74</td>\n",
       "    </tr>\n",
       "  </tbody>\n",
       "</table>\n",
       "</div>"
      ],
      "text/plain": [
       "   gender race_ethnicity parental_level_of_education     lunch  \\\n",
       "0  female        group B           bachelor's degree  standard   \n",
       "\n",
       "  test_preparation_course  math_score  reading_score  writing_score  \n",
       "0                    none          72             72             74  "
      ]
     },
     "execution_count": 164,
     "metadata": {},
     "output_type": "execute_result"
    }
   ],
   "source": [
    "dataset = pd.read_csv('study_performance 6.csv')\n",
    "dataset.head(1)"
   ]
  },
  {
   "cell_type": "code",
   "execution_count": 94,
   "id": "e8f1ab38-5d8c-4409-8cb0-0e4fcaeec2c4",
   "metadata": {},
   "outputs": [
    {
     "data": {
      "text/html": [
       "<div>\n",
       "<style scoped>\n",
       "    .dataframe tbody tr th:only-of-type {\n",
       "        vertical-align: middle;\n",
       "    }\n",
       "\n",
       "    .dataframe tbody tr th {\n",
       "        vertical-align: top;\n",
       "    }\n",
       "\n",
       "    .dataframe thead th {\n",
       "        text-align: right;\n",
       "    }\n",
       "</style>\n",
       "<table border=\"1\" class=\"dataframe\">\n",
       "  <thead>\n",
       "    <tr style=\"text-align: right;\">\n",
       "      <th></th>\n",
       "      <th>gender</th>\n",
       "      <th>race_ethnicity</th>\n",
       "      <th>parental_level_of_education</th>\n",
       "      <th>math_score</th>\n",
       "      <th>reading_score</th>\n",
       "      <th>writing_score</th>\n",
       "    </tr>\n",
       "  </thead>\n",
       "  <tbody>\n",
       "    <tr>\n",
       "      <th>0</th>\n",
       "      <td>female</td>\n",
       "      <td>group B</td>\n",
       "      <td>bachelor's degree</td>\n",
       "      <td>72</td>\n",
       "      <td>72</td>\n",
       "      <td>74</td>\n",
       "    </tr>\n",
       "    <tr>\n",
       "      <th>1</th>\n",
       "      <td>female</td>\n",
       "      <td>group C</td>\n",
       "      <td>some college</td>\n",
       "      <td>69</td>\n",
       "      <td>90</td>\n",
       "      <td>88</td>\n",
       "    </tr>\n",
       "    <tr>\n",
       "      <th>2</th>\n",
       "      <td>female</td>\n",
       "      <td>group B</td>\n",
       "      <td>master's degree</td>\n",
       "      <td>90</td>\n",
       "      <td>95</td>\n",
       "      <td>93</td>\n",
       "    </tr>\n",
       "    <tr>\n",
       "      <th>3</th>\n",
       "      <td>male</td>\n",
       "      <td>group A</td>\n",
       "      <td>associate's degree</td>\n",
       "      <td>47</td>\n",
       "      <td>57</td>\n",
       "      <td>44</td>\n",
       "    </tr>\n",
       "    <tr>\n",
       "      <th>4</th>\n",
       "      <td>male</td>\n",
       "      <td>group C</td>\n",
       "      <td>some college</td>\n",
       "      <td>76</td>\n",
       "      <td>78</td>\n",
       "      <td>75</td>\n",
       "    </tr>\n",
       "  </tbody>\n",
       "</table>\n",
       "</div>"
      ],
      "text/plain": [
       "   gender race_ethnicity parental_level_of_education  math_score  \\\n",
       "0  female        group B           bachelor's degree          72   \n",
       "1  female        group C                some college          69   \n",
       "2  female        group B             master's degree          90   \n",
       "3    male        group A          associate's degree          47   \n",
       "4    male        group C                some college          76   \n",
       "\n",
       "   reading_score  writing_score  \n",
       "0             72             74  \n",
       "1             90             88  \n",
       "2             95             93  \n",
       "3             57             44  \n",
       "4             78             75  "
      ]
     },
     "execution_count": 94,
     "metadata": {},
     "output_type": "execute_result"
    }
   ],
   "source": [
    "drop = dataset.drop([\"lunch\", \"test_preparation_course\"], axis = 1)\n",
    "drop.head(5)"
   ]
  },
  {
   "cell_type": "markdown",
   "id": "4ef0142c-5ac8-4e76-8fd4-53a030657eec",
   "metadata": {},
   "source": [
    "We have dropped the **lunch** and **test_preparation_course** column because it will not be used as part of our analysis"
   ]
  },
  {
   "cell_type": "markdown",
   "id": "1f023612-4132-4a61-9efa-e8b1839b2d29",
   "metadata": {},
   "source": [
    "# Understanding our dataset\n",
    "\n",
    "1. The number of each gender in the dataset\n",
    "3. The number of each race in the dataaet\n",
    "4. The number of parental education\n",
    "5. The number of students who completed the preperation course & and those who did not"
   ]
  },
  {
   "cell_type": "markdown",
   "id": "da5e3f3f-937c-483d-a9ab-a4d46bc7803b",
   "metadata": {},
   "source": [
    "#### Gender_counts"
   ]
  },
  {
   "cell_type": "code",
   "execution_count": 256,
   "id": "512fa926-b432-4d31-acbe-ffc6eeb96572",
   "metadata": {},
   "outputs": [
    {
     "data": {
      "text/html": [
       "<div>\n",
       "<style scoped>\n",
       "    .dataframe tbody tr th:only-of-type {\n",
       "        vertical-align: middle;\n",
       "    }\n",
       "\n",
       "    .dataframe tbody tr th {\n",
       "        vertical-align: top;\n",
       "    }\n",
       "\n",
       "    .dataframe thead th {\n",
       "        text-align: right;\n",
       "    }\n",
       "</style>\n",
       "<table border=\"1\" class=\"dataframe\">\n",
       "  <thead>\n",
       "    <tr style=\"text-align: right;\">\n",
       "      <th></th>\n",
       "      <th>count</th>\n",
       "    </tr>\n",
       "    <tr>\n",
       "      <th>gender</th>\n",
       "      <th></th>\n",
       "    </tr>\n",
       "  </thead>\n",
       "  <tbody>\n",
       "    <tr>\n",
       "      <th>female</th>\n",
       "      <td>518</td>\n",
       "    </tr>\n",
       "    <tr>\n",
       "      <th>male</th>\n",
       "      <td>482</td>\n",
       "    </tr>\n",
       "  </tbody>\n",
       "</table>\n",
       "</div>"
      ],
      "text/plain": [
       "        count\n",
       "gender       \n",
       "female    518\n",
       "male      482"
      ]
     },
     "execution_count": 256,
     "metadata": {},
     "output_type": "execute_result"
    }
   ],
   "source": [
    "sex = dataset[\"gender\"].value_counts()\n",
    "frame4 = pd.DataFrame(sex)\n",
    "frame4"
   ]
  },
  {
   "cell_type": "code",
   "execution_count": 221,
   "id": "1fd124a0-72c7-4516-859f-447dc77a8d71",
   "metadata": {},
   "outputs": [
    {
     "data": {
      "text/plain": [
       "<Axes: xlabel='count', ylabel='gender'>"
      ]
     },
     "execution_count": 221,
     "metadata": {},
     "output_type": "execute_result"
    },
    {
     "data": {
      "image/png": "[encoded data removed]",
      "text/plain": [
       "<Figure size 640x480 with 1 Axes>"
      ]
     },
     "metadata": {},
     "output_type": "display_data"
    }
   ],
   "source": [
    "sns.countplot(y = \"gender\", data = dataset)"
   ]
  },
  {
   "cell_type": "markdown",
   "id": "6e7921de-3e93-4c79-af96-30b51e2009e9",
   "metadata": {},
   "source": [
    "#### Number of each race"
   ]
  },
  {
   "cell_type": "code",
   "execution_count": 216,
   "id": "1ffd81fa-0425-44e8-affb-25b1fc59ff46",
   "metadata": {},
   "outputs": [
    {
     "data": {
      "text/html": [
       "<div>\n",
       "<style scoped>\n",
       "    .dataframe tbody tr th:only-of-type {\n",
       "        vertical-align: middle;\n",
       "    }\n",
       "\n",
       "    .dataframe tbody tr th {\n",
       "        vertical-align: top;\n",
       "    }\n",
       "\n",
       "    .dataframe thead th {\n",
       "        text-align: right;\n",
       "    }\n",
       "</style>\n",
       "<table border=\"1\" class=\"dataframe\">\n",
       "  <thead>\n",
       "    <tr style=\"text-align: right;\">\n",
       "      <th></th>\n",
       "      <th>count</th>\n",
       "    </tr>\n",
       "    <tr>\n",
       "      <th>race_ethnicity</th>\n",
       "      <th></th>\n",
       "    </tr>\n",
       "  </thead>\n",
       "  <tbody>\n",
       "    <tr>\n",
       "      <th>group C</th>\n",
       "      <td>319</td>\n",
       "    </tr>\n",
       "    <tr>\n",
       "      <th>group D</th>\n",
       "      <td>262</td>\n",
       "    </tr>\n",
       "    <tr>\n",
       "      <th>group B</th>\n",
       "      <td>190</td>\n",
       "    </tr>\n",
       "    <tr>\n",
       "      <th>group E</th>\n",
       "      <td>140</td>\n",
       "    </tr>\n",
       "    <tr>\n",
       "      <th>group A</th>\n",
       "      <td>89</td>\n",
       "    </tr>\n",
       "  </tbody>\n",
       "</table>\n",
       "</div>"
      ],
      "text/plain": [
       "                count\n",
       "race_ethnicity       \n",
       "group C           319\n",
       "group D           262\n",
       "group B           190\n",
       "group E           140\n",
       "group A            89"
      ]
     },
     "execution_count": 216,
     "metadata": {},
     "output_type": "execute_result"
    }
   ],
   "source": [
    "race = dataset[\"race_ethnicity\"].value_counts()\n",
    "frame5 = pd.DataFrame(race)\n",
    "frame5"
   ]
  },
  {
   "cell_type": "code",
   "execution_count": 245,
   "id": "18deac58-aecb-4b23-850e-0d1e599b28bf",
   "metadata": {},
   "outputs": [
    {
     "data": {
      "text/plain": [
       "<Axes: xlabel='race_ethnicity', ylabel='count'>"
      ]
     },
     "execution_count": 245,
     "metadata": {},
     "output_type": "execute_result"
    },
    {
     "data": {
      "image/png": "[encoded data removed]",
      "text/plain": [
       "<Figure size 640x480 with 1 Axes>"
      ]
     },
     "metadata": {},
     "output_type": "display_data"
    }
   ],
   "source": [
    "sns.countplot(x = \"race_ethnicity\", data = dataset)"
   ]
  },
  {
   "cell_type": "markdown",
   "id": "a32dd824-ce0a-4e5a-8c7f-3cd593799931",
   "metadata": {},
   "source": [
    "#### Number_of_parental_education"
   ]
  },
  {
   "cell_type": "code",
   "execution_count": 226,
   "id": "fe74f370-91f1-4a0d-a10a-e4b68176d7d9",
   "metadata": {},
   "outputs": [
    {
     "data": {
      "text/html": [
       "<div>\n",
       "<style scoped>\n",
       "    .dataframe tbody tr th:only-of-type {\n",
       "        vertical-align: middle;\n",
       "    }\n",
       "\n",
       "    .dataframe tbody tr th {\n",
       "        vertical-align: top;\n",
       "    }\n",
       "\n",
       "    .dataframe thead th {\n",
       "        text-align: right;\n",
       "    }\n",
       "</style>\n",
       "<table border=\"1\" class=\"dataframe\">\n",
       "  <thead>\n",
       "    <tr style=\"text-align: right;\">\n",
       "      <th></th>\n",
       "      <th>count</th>\n",
       "    </tr>\n",
       "    <tr>\n",
       "      <th>parental_level_of_education</th>\n",
       "      <th></th>\n",
       "    </tr>\n",
       "  </thead>\n",
       "  <tbody>\n",
       "    <tr>\n",
       "      <th>some college</th>\n",
       "      <td>226</td>\n",
       "    </tr>\n",
       "    <tr>\n",
       "      <th>associate's degree</th>\n",
       "      <td>222</td>\n",
       "    </tr>\n",
       "    <tr>\n",
       "      <th>high school</th>\n",
       "      <td>196</td>\n",
       "    </tr>\n",
       "    <tr>\n",
       "      <th>some high school</th>\n",
       "      <td>179</td>\n",
       "    </tr>\n",
       "    <tr>\n",
       "      <th>bachelor's degree</th>\n",
       "      <td>118</td>\n",
       "    </tr>\n",
       "    <tr>\n",
       "      <th>master's degree</th>\n",
       "      <td>59</td>\n",
       "    </tr>\n",
       "  </tbody>\n",
       "</table>\n",
       "</div>"
      ],
      "text/plain": [
       "                             count\n",
       "parental_level_of_education       \n",
       "some college                   226\n",
       "associate's degree             222\n",
       "high school                    196\n",
       "some high school               179\n",
       "bachelor's degree              118\n",
       "master's degree                 59"
      ]
     },
     "execution_count": 226,
     "metadata": {},
     "output_type": "execute_result"
    }
   ],
   "source": [
    "education = dataset[\"parental_level_of_education\"].value_counts()\n",
    "frame6 = pd.DataFrame(education)\n",
    "frame6"
   ]
  },
  {
   "cell_type": "code",
   "execution_count": 236,
   "id": "69dac3a8-f573-4bfb-b519-f25ce56a6ff7",
   "metadata": {},
   "outputs": [
    {
     "data": {
      "image/png": "[encoded data removed]",
      "text/plain": [
       "<Figure size 640x480 with 1 Axes>"
      ]
     },
     "metadata": {},
     "output_type": "display_data"
    }
   ],
   "source": [
    "education.plot(kind = \"pie\", ylabel=\"\", autopct = \"%2.1f%%\")\n",
    "plt.show()"
   ]
  },
  {
   "cell_type": "markdown",
   "id": "7e292731-0c65-4f5d-b015-8d8bd69aa7df",
   "metadata": {},
   "source": [
    "#### Number_of_students_of_completed_and_not_completed_preparation_test"
   ]
  },
  {
   "cell_type": "code",
   "execution_count": 237,
   "id": "87e6f914-effa-4a21-8674-66adc430e5de",
   "metadata": {},
   "outputs": [
    {
     "data": {
      "text/html": [
       "<div>\n",
       "<style scoped>\n",
       "    .dataframe tbody tr th:only-of-type {\n",
       "        vertical-align: middle;\n",
       "    }\n",
       "\n",
       "    .dataframe tbody tr th {\n",
       "        vertical-align: top;\n",
       "    }\n",
       "\n",
       "    .dataframe thead th {\n",
       "        text-align: right;\n",
       "    }\n",
       "</style>\n",
       "<table border=\"1\" class=\"dataframe\">\n",
       "  <thead>\n",
       "    <tr style=\"text-align: right;\">\n",
       "      <th></th>\n",
       "      <th>count</th>\n",
       "    </tr>\n",
       "    <tr>\n",
       "      <th>test_preparation_course</th>\n",
       "      <th></th>\n",
       "    </tr>\n",
       "  </thead>\n",
       "  <tbody>\n",
       "    <tr>\n",
       "      <th>none</th>\n",
       "      <td>642</td>\n",
       "    </tr>\n",
       "    <tr>\n",
       "      <th>completed</th>\n",
       "      <td>358</td>\n",
       "    </tr>\n",
       "  </tbody>\n",
       "</table>\n",
       "</div>"
      ],
      "text/plain": [
       "                         count\n",
       "test_preparation_course       \n",
       "none                       642\n",
       "completed                  358"
      ]
     },
     "execution_count": 237,
     "metadata": {},
     "output_type": "execute_result"
    }
   ],
   "source": [
    "prep_test = dataset[\"test_preparation_course\"].value_counts()\n",
    "frame7 = pd.DataFrame(prep_test)\n",
    "frame7"
   ]
  },
  {
   "cell_type": "code",
   "execution_count": 241,
   "id": "414ed978-fad7-45ce-92a3-bd5a106eb994",
   "metadata": {},
   "outputs": [
    {
     "data": {
      "image/png": "[encoded data removed]",
      "text/plain": [
       "<Figure size 640x480 with 1 Axes>"
      ]
     },
     "metadata": {},
     "output_type": "display_data"
    }
   ],
   "source": [
    "prep_test.plot(kind = \"pie\", ylabel=\"\", autopct = \"%2.1f%%\", explode = [0, 0.1])\n",
    "plt.show()"
   ]
  },
  {
   "cell_type": "markdown",
   "id": "acdd9d25-b1e1-4608-a7d6-34ff8d864fe0",
   "metadata": {},
   "source": [
    "# Descriptive Statistics"
   ]
  },
  {
   "cell_type": "markdown",
   "id": "46e687f8-d2df-4e16-9537-2bb3afa67c6b",
   "metadata": {},
   "source": [
    "### maths_score"
   ]
  },
  {
   "cell_type": "code",
   "execution_count": 87,
   "id": "1f886864-296b-43e0-bafb-3cf7d783fc70",
   "metadata": {},
   "outputs": [
    {
     "data": {
      "text/html": [
       "<div>\n",
       "<style scoped>\n",
       "    .dataframe tbody tr th:only-of-type {\n",
       "        vertical-align: middle;\n",
       "    }\n",
       "\n",
       "    .dataframe tbody tr th {\n",
       "        vertical-align: top;\n",
       "    }\n",
       "\n",
       "    .dataframe thead th {\n",
       "        text-align: right;\n",
       "    }\n",
       "</style>\n",
       "<table border=\"1\" class=\"dataframe\">\n",
       "  <thead>\n",
       "    <tr style=\"text-align: right;\">\n",
       "      <th></th>\n",
       "      <th>Description</th>\n",
       "      <th>Result</th>\n",
       "    </tr>\n",
       "  </thead>\n",
       "  <tbody>\n",
       "    <tr>\n",
       "      <th>0</th>\n",
       "      <td>Mean</td>\n",
       "      <td>66.089</td>\n",
       "    </tr>\n",
       "    <tr>\n",
       "      <th>1</th>\n",
       "      <td>Mode</td>\n",
       "      <td>0    65\n",
       "Name: math_score, dtype: int64</td>\n",
       "    </tr>\n",
       "    <tr>\n",
       "      <th>2</th>\n",
       "      <td>Min</td>\n",
       "      <td>0</td>\n",
       "    </tr>\n",
       "    <tr>\n",
       "      <th>3</th>\n",
       "      <td>Quantile 2</td>\n",
       "      <td>57.0</td>\n",
       "    </tr>\n",
       "    <tr>\n",
       "      <th>4</th>\n",
       "      <td>Quantile 3</td>\n",
       "      <td>66.0</td>\n",
       "    </tr>\n",
       "    <tr>\n",
       "      <th>5</th>\n",
       "      <td>Quantile 4</td>\n",
       "      <td>77.0</td>\n",
       "    </tr>\n",
       "    <tr>\n",
       "      <th>6</th>\n",
       "      <td>Max</td>\n",
       "      <td>100</td>\n",
       "    </tr>\n",
       "    <tr>\n",
       "      <th>7</th>\n",
       "      <td>Standard Diviation</td>\n",
       "      <td>15.16308</td>\n",
       "    </tr>\n",
       "    <tr>\n",
       "      <th>8</th>\n",
       "      <td>Range</td>\n",
       "      <td>&lt;class 'range'&gt;</td>\n",
       "    </tr>\n",
       "  </tbody>\n",
       "</table>\n",
       "</div>"
      ],
      "text/plain": [
       "          Description                                  Result\n",
       "0                Mean                                  66.089\n",
       "1                Mode  0    65\n",
       "Name: math_score, dtype: int64\n",
       "2                 Min                                       0\n",
       "3          Quantile 2                                    57.0\n",
       "4          Quantile 3                                    66.0\n",
       "5          Quantile 4                                    77.0\n",
       "6                 Max                                     100\n",
       "7  Standard Diviation                                15.16308\n",
       "8               Range                         <class 'range'>"
      ]
     },
     "execution_count": 87,
     "metadata": {},
     "output_type": "execute_result"
    }
   ],
   "source": [
    "frame10 = pd.DataFrame(dataset)\n",
    "mean = dataset[\"math_score\"].mean()\n",
    "mode = dataset[\"math_score\"].mode()\n",
    "min = dataset[\"math_score\"].min()\n",
    "\n",
    "quat2 = dataset[\"math_score\"].quantile(0.25)\n",
    "quat3 = dataset[\"math_score\"].quantile(0.50)\n",
    "quat4 = dataset[\"math_score\"].quantile(0.75)\n",
    "\n",
    "max = dataset[\"math_score\"].max()\n",
    "std = dataset[\"math_score\"].std()\n",
    "\n",
    "maths_descripitive = pd.DataFrame({\n",
    "    \"Description\": [\"Mean\", \"Mode\", \"Min\", \"Quantile 2\", \"Quantile 3\", \"Quantile 4\", \"Max\", \"Standard Diviation\", \"Range\"],\n",
    "    \"Result\": [mean, mode, min, quat2, quat3, quat4, max, std, range]\n",
    "})\n",
    "maths_descripitive"
   ]
  },
  {
   "cell_type": "markdown",
   "id": "fe8e14e2-ffe9-4f3c-9ac0-c2e8774aae60",
   "metadata": {},
   "source": [
    "#### Maths Score Box plot representing how the data is positioned"
   ]
  },
  {
   "cell_type": "code",
   "execution_count": 35,
   "id": "7762d89a-96e4-47fa-a66a-ec19d8dac261",
   "metadata": {},
   "outputs": [
    {
     "data": {
      "image/png": "[encoded data removed]",
      "text/plain": [
       "<Figure size 650x350 with 1 Axes>"
      ]
     },
     "metadata": {},
     "output_type": "display_data"
    }
   ],
   "source": [
    "sns.set(style=\"white\")\n",
    "fig, ax = plt.subplots(figsize=(6.5,3.5))\n",
    "sns.boxplot(x=\"math_score\", data=dataset)\n",
    "\n",
    "plt.xlabel(\"Math Score\")\n",
    "plt.ylabel(\"Distibution\")\n",
    "plt.title(\"The maths score distribution\")\n",
    "plt.show()\n"
   ]
  },
  {
   "cell_type": "markdown",
   "id": "fb13408b-888d-485f-9f49-6496a43d5906",
   "metadata": {},
   "source": [
    "### reading_score"
   ]
  },
  {
   "cell_type": "code",
   "execution_count": 47,
   "id": "f329c146-9f2e-48d2-acfc-c1e1654ba6a1",
   "metadata": {},
   "outputs": [
    {
     "data": {
      "text/html": [
       "<div>\n",
       "<style scoped>\n",
       "    .dataframe tbody tr th:only-of-type {\n",
       "        vertical-align: middle;\n",
       "    }\n",
       "\n",
       "    .dataframe tbody tr th {\n",
       "        vertical-align: top;\n",
       "    }\n",
       "\n",
       "    .dataframe thead th {\n",
       "        text-align: right;\n",
       "    }\n",
       "</style>\n",
       "<table border=\"1\" class=\"dataframe\">\n",
       "  <thead>\n",
       "    <tr style=\"text-align: right;\">\n",
       "      <th></th>\n",
       "      <th>Description</th>\n",
       "      <th>Result</th>\n",
       "    </tr>\n",
       "  </thead>\n",
       "  <tbody>\n",
       "    <tr>\n",
       "      <th>0</th>\n",
       "      <td>Mean</td>\n",
       "      <td>69.169</td>\n",
       "    </tr>\n",
       "    <tr>\n",
       "      <th>1</th>\n",
       "      <td>Mode</td>\n",
       "      <td>0    72\n",
       "Name: reading_score, dtype: int64</td>\n",
       "    </tr>\n",
       "    <tr>\n",
       "      <th>2</th>\n",
       "      <td>Min</td>\n",
       "      <td>17</td>\n",
       "    </tr>\n",
       "    <tr>\n",
       "      <th>3</th>\n",
       "      <td>Quantile 2</td>\n",
       "      <td>59.0</td>\n",
       "    </tr>\n",
       "    <tr>\n",
       "      <th>4</th>\n",
       "      <td>Quantile 3</td>\n",
       "      <td>70.0</td>\n",
       "    </tr>\n",
       "    <tr>\n",
       "      <th>5</th>\n",
       "      <td>Quantile 4</td>\n",
       "      <td>79.0</td>\n",
       "    </tr>\n",
       "    <tr>\n",
       "      <th>6</th>\n",
       "      <td>Max</td>\n",
       "      <td>100</td>\n",
       "    </tr>\n",
       "    <tr>\n",
       "      <th>7</th>\n",
       "      <td>Standard Diviation</td>\n",
       "      <td>14.600192</td>\n",
       "    </tr>\n",
       "  </tbody>\n",
       "</table>\n",
       "</div>"
      ],
      "text/plain": [
       "          Description                                     Result\n",
       "0                Mean                                     69.169\n",
       "1                Mode  0    72\n",
       "Name: reading_score, dtype: int64\n",
       "2                 Min                                         17\n",
       "3          Quantile 2                                       59.0\n",
       "4          Quantile 3                                       70.0\n",
       "5          Quantile 4                                       79.0\n",
       "6                 Max                                        100\n",
       "7  Standard Diviation                                  14.600192"
      ]
     },
     "execution_count": 47,
     "metadata": {},
     "output_type": "execute_result"
    }
   ],
   "source": [
    "frame11 = pd.DataFrame(dataset)\n",
    "mean = dataset[\"reading_score\"].mean()\n",
    "mode = dataset[\"reading_score\"].mode()\n",
    "min = dataset[\"reading_score\"].min()\n",
    "\n",
    "quat2 = dataset[\"reading_score\"].quantile(0.25)\n",
    "quat3 = dataset[\"reading_score\"].quantile(0.50)\n",
    "quat4 = dataset[\"reading_score\"].quantile(0.75)\n",
    "\n",
    "max = dataset[\"reading_score\"].max()\n",
    "std = dataset[\"reading_score\"].std()\n",
    "\n",
    "reading_descripitive = pd.DataFrame({\n",
    "    \"Description\": [\"Mean\", \"Mode\", \"Min\", \"Quantile 2\", \"Quantile 3\", \"Quantile 4\", \"Max\", \"Standard Diviation\"],\n",
    "    \"Result\": [mean, mode, min, quat2, quat3, quat4, max, std,]\n",
    "})\n",
    "reading_descripitive\n"
   ]
  },
  {
   "cell_type": "markdown",
   "id": "8eb6993c-b72c-4bb9-8ee4-8e194746662f",
   "metadata": {},
   "source": [
    "### Boxplot for Reading scores"
   ]
  },
  {
   "cell_type": "code",
   "execution_count": 36,
   "id": "8c4a216e-d2c5-4acf-8f51-f22131ea729c",
   "metadata": {},
   "outputs": [
    {
     "data": {
      "image/png": "[encoded data removed]",
      "text/plain": [
       "<Figure size 650x350 with 1 Axes>"
      ]
     },
     "metadata": {},
     "output_type": "display_data"
    }
   ],
   "source": [
    "sns.set(style=\"white\")\n",
    "fig, ax = plt.subplots(figsize=(6.5,3.5))\n",
    "sns.boxplot(x=\"reading_score\", data=dataset)\n",
    "\n",
    "plt.xlabel(\"Reading Score\")\n",
    "plt.ylabel(\"Distibution\")\n",
    "plt.title(\"The reading score distribution\")\n",
    "plt.show()\n"
   ]
  },
  {
   "cell_type": "markdown",
   "id": "2c9b2ed3-9ee6-433d-8b9c-b4a8e08c1b5a",
   "metadata": {},
   "source": [
    "#### writing_score"
   ]
  },
  {
   "cell_type": "code",
   "execution_count": 20,
   "id": "24785e21-e8a9-47f3-98e5-bda0ee44858a",
   "metadata": {},
   "outputs": [
    {
     "data": {
      "text/html": [
       "<div>\n",
       "<style scoped>\n",
       "    .dataframe tbody tr th:only-of-type {\n",
       "        vertical-align: middle;\n",
       "    }\n",
       "\n",
       "    .dataframe tbody tr th {\n",
       "        vertical-align: top;\n",
       "    }\n",
       "\n",
       "    .dataframe thead th {\n",
       "        text-align: right;\n",
       "    }\n",
       "</style>\n",
       "<table border=\"1\" class=\"dataframe\">\n",
       "  <thead>\n",
       "    <tr style=\"text-align: right;\">\n",
       "      <th></th>\n",
       "      <th>Description</th>\n",
       "      <th>Result</th>\n",
       "    </tr>\n",
       "  </thead>\n",
       "  <tbody>\n",
       "    <tr>\n",
       "      <th>0</th>\n",
       "      <td>Mean</td>\n",
       "      <td>68.054</td>\n",
       "    </tr>\n",
       "    <tr>\n",
       "      <th>1</th>\n",
       "      <td>Mode</td>\n",
       "      <td>0    74\n",
       "Name: writing_score, dtype: int64</td>\n",
       "    </tr>\n",
       "    <tr>\n",
       "      <th>2</th>\n",
       "      <td>Min</td>\n",
       "      <td>10</td>\n",
       "    </tr>\n",
       "    <tr>\n",
       "      <th>3</th>\n",
       "      <td>Quantile 2</td>\n",
       "      <td>57.75</td>\n",
       "    </tr>\n",
       "    <tr>\n",
       "      <th>4</th>\n",
       "      <td>Quantile 3</td>\n",
       "      <td>69.0</td>\n",
       "    </tr>\n",
       "    <tr>\n",
       "      <th>5</th>\n",
       "      <td>Quantile 4</td>\n",
       "      <td>79.0</td>\n",
       "    </tr>\n",
       "    <tr>\n",
       "      <th>6</th>\n",
       "      <td>Max</td>\n",
       "      <td>100</td>\n",
       "    </tr>\n",
       "    <tr>\n",
       "      <th>7</th>\n",
       "      <td>Standard Diviation</td>\n",
       "      <td>15.195657</td>\n",
       "    </tr>\n",
       "  </tbody>\n",
       "</table>\n",
       "</div>"
      ],
      "text/plain": [
       "          Description                                     Result\n",
       "0                Mean                                     68.054\n",
       "1                Mode  0    74\n",
       "Name: writing_score, dtype: int64\n",
       "2                 Min                                         10\n",
       "3          Quantile 2                                      57.75\n",
       "4          Quantile 3                                       69.0\n",
       "5          Quantile 4                                       79.0\n",
       "6                 Max                                        100\n",
       "7  Standard Diviation                                  15.195657"
      ]
     },
     "execution_count": 20,
     "metadata": {},
     "output_type": "execute_result"
    }
   ],
   "source": [
    "frame12 = pd.DataFrame(dataset)\n",
    "mean = dataset[\"writing_score\"].mean()\n",
    "mode = dataset[\"writing_score\"].mode()\n",
    "min = dataset[\"writing_score\"].min()\n",
    "\n",
    "quat2 = dataset[\"writing_score\"].quantile(0.25)\n",
    "quat3 = dataset[\"writing_score\"].quantile(0.50)\n",
    "quat4 = dataset[\"writing_score\"].quantile(0.75)\n",
    "\n",
    "max = dataset[\"writing_score\"].max()\n",
    "std = dataset[\"writing_score\"].std()\n",
    "\n",
    "writing_descripitive = pd.DataFrame({\n",
    "    \"Description\": [\"Mean\", \"Mode\", \"Min\", \"Quantile 2\", \"Quantile 3\", \"Quantile 4\", \"Max\", \"Standard Diviation\"],\n",
    "    \"Result\": [mean, mode, min, quat2, quat3, quat4, max, std,]\n",
    "})\n",
    "\n",
    "writing_descripitive\n"
   ]
  },
  {
   "cell_type": "code",
   "execution_count": 37,
   "id": "ac8bc9ec-4906-4efe-9e03-1801bf96f0fa",
   "metadata": {},
   "outputs": [
    {
     "data": {
      "image/png": "[encoded data removed]",
      "text/plain": [
       "<Figure size 650x350 with 1 Axes>"
      ]
     },
     "metadata": {},
     "output_type": "display_data"
    }
   ],
   "source": [
    "sns.set(style=\"white\")\n",
    "fig, ax = plt.subplots(figsize=(6.5,3.5))\n",
    "sns.boxplot(dataset[\"writing_score\"])\n",
    "plt.ylabel(\"Writing scores\")\n",
    "plt.title(\"The writing score distribution\")\n",
    "plt.show()"
   ]
  },
  {
   "cell_type": "markdown",
   "id": "3fdfd9e3-95a2-496f-8542-0aad6939c4c6",
   "metadata": {},
   "source": [
    "The highest test based on average is reading_score by 69% and the lowest average is math_score at 66%, we want to find a correlation\n",
    "if students that performed well in reading_score also did well in math_score"
   ]
  },
  {
   "cell_type": "markdown",
   "id": "5c1d08b9-a59b-46f7-91b6-be1c268f94e7",
   "metadata": {},
   "source": [
    "# Correlation Analysis"
   ]
  },
  {
   "cell_type": "markdown",
   "id": "e8d4b4a2-c680-4f4b-963f-4e7c6a061b29",
   "metadata": {},
   "source": [
    "#### Averages of the two variables"
   ]
  },
  {
   "cell_type": "code",
   "execution_count": 49,
   "id": "0f938d9b-1245-4f0b-82c7-3068ee3e0026",
   "metadata": {},
   "outputs": [
    {
     "data": {
      "text/html": [
       "<div>\n",
       "<style scoped>\n",
       "    .dataframe tbody tr th:only-of-type {\n",
       "        vertical-align: middle;\n",
       "    }\n",
       "\n",
       "    .dataframe tbody tr th {\n",
       "        vertical-align: top;\n",
       "    }\n",
       "\n",
       "    .dataframe thead th {\n",
       "        text-align: right;\n",
       "    }\n",
       "</style>\n",
       "<table border=\"1\" class=\"dataframe\">\n",
       "  <thead>\n",
       "    <tr style=\"text-align: right;\">\n",
       "      <th></th>\n",
       "      <th>Description</th>\n",
       "      <th>Result</th>\n",
       "    </tr>\n",
       "  </thead>\n",
       "  <tbody>\n",
       "    <tr>\n",
       "      <th>0</th>\n",
       "      <td>Maths Average</td>\n",
       "      <td>66.089</td>\n",
       "    </tr>\n",
       "    <tr>\n",
       "      <th>1</th>\n",
       "      <td>Reading Average</td>\n",
       "      <td>69.169</td>\n",
       "    </tr>\n",
       "  </tbody>\n",
       "</table>\n",
       "</div>"
      ],
      "text/plain": [
       "       Description  Result\n",
       "0    Maths Average  66.089\n",
       "1  Reading Average  69.169"
      ]
     },
     "execution_count": 49,
     "metadata": {},
     "output_type": "execute_result"
    }
   ],
   "source": [
    "frame14 = pd.DataFrame(dataset)\n",
    "average_maths = dataset[\"math_score\"].mean()\n",
    "average_reading = dataset[\"reading_score\"].mean()\n",
    "\n",
    "correlation = pd.DataFrame({\n",
    "  \"Description\": [\"Maths Average\", \"Reading Average\"],\n",
    "  \"Result\": [average_maths, average_reading]\n",
    "})\n",
    "\n",
    "correlation"
   ]
  },
  {
   "cell_type": "markdown",
   "id": "a92fe17a-3dc9-4388-bae4-4dbf152a5b9f",
   "metadata": {},
   "source": [
    "#### Correlation "
   ]
  },
  {
   "cell_type": "code",
   "execution_count": 88,
   "id": "2a2e321d-40f4-48f9-8cfa-c0ab47e743b3",
   "metadata": {},
   "outputs": [
    {
     "data": {
      "text/html": [
       "<div>\n",
       "<style scoped>\n",
       "    .dataframe tbody tr th:only-of-type {\n",
       "        vertical-align: middle;\n",
       "    }\n",
       "\n",
       "    .dataframe tbody tr th {\n",
       "        vertical-align: top;\n",
       "    }\n",
       "\n",
       "    .dataframe thead th {\n",
       "        text-align: right;\n",
       "    }\n",
       "</style>\n",
       "<table border=\"1\" class=\"dataframe\">\n",
       "  <thead>\n",
       "    <tr style=\"text-align: right;\">\n",
       "      <th></th>\n",
       "      <th>Description</th>\n",
       "      <th>Result</th>\n",
       "    </tr>\n",
       "  </thead>\n",
       "  <tbody>\n",
       "    <tr>\n",
       "      <th>0</th>\n",
       "      <td>The correlation is</td>\n",
       "      <td>0.81758</td>\n",
       "    </tr>\n",
       "  </tbody>\n",
       "</table>\n",
       "</div>"
      ],
      "text/plain": [
       "          Description   Result\n",
       "0  The correlation is  0.81758"
      ]
     },
     "execution_count": 88,
     "metadata": {},
     "output_type": "execute_result"
    }
   ],
   "source": [
    "frame16 = pd.DataFrame(dataset)\n",
    "correlation1 = dataset[\"reading_score\"].corr(dataset[\"math_score\"])\n",
    "\n",
    "correlation2 = pd.DataFrame({\n",
    "  \"Description\": [\"The correlation is\"],\n",
    "  \"Result\": [correlation1]\n",
    "})\n",
    "correlation2"
   ]
  },
  {
   "cell_type": "markdown",
   "id": "e2a8cb38-bd30-40d4-9b03-05118da06837",
   "metadata": {},
   "source": [
    "#### ScatterPlot"
   ]
  },
  {
   "cell_type": "code",
   "execution_count": 74,
   "id": "c05bab38-4e2b-49ba-b435-e8dc5ca1a09f",
   "metadata": {},
   "outputs": [
    {
     "data": {
      "image/png": "[encoded data removed]",
      "text/plain": [
       "<Figure size 400x400 with 2 Axes>"
      ]
     },
     "metadata": {},
     "output_type": "display_data"
    }
   ],
   "source": [
    "\n",
    "plt.figure(figsize=(4, 4))\n",
    "plt.scatter(\n",
    "    x=\"reading_score\",\n",
    "    y=\"math_score\",\n",
    "    data=dataset,\n",
    "    marker=\"o\",\n",
    "    c=dataset[\"math_score\"],\n",
    "    cmap=\"viridis\",\n",
    "    alpha=0.7,\n",
    ")\n",
    "\n",
    "plt.title(\"Maths vs. Reading Scores\")\n",
    "plt.xlabel(\"Reading Score\")\n",
    "plt.ylabel(\"Math Score\")\n",
    "plt.grid(True)\n",
    "plt.colorbar(label=\"Math Score\")\n",
    "plt.show()"
   ]
  },
  {
   "cell_type": "markdown",
   "id": "6b574302-f3ac-43ef-b3e5-45196b2a573c",
   "metadata": {},
   "source": [
    "There is a postive correlation between the math_score and reading_score, meaning that most student that perform well in maths\n",
    "also performed well in reading. There is a density of students who scored between 50 and 85%"
   ]
  },
  {
   "cell_type": "markdown",
   "id": "b1aba345-1bc0-489a-8105-b1f47fb33769",
   "metadata": {},
   "source": [
    "#### parental_level_of_education is being accessed to test whether it had an effect on student performace"
   ]
  },
  {
   "cell_type": "code",
   "execution_count": 95,
   "id": "8ecd8d6b-cc7b-48a4-87ef-5ae000fc74d4",
   "metadata": {},
   "outputs": [
    {
     "data": {
      "text/html": [
       "<div>\n",
       "<style scoped>\n",
       "    .dataframe tbody tr th:only-of-type {\n",
       "        vertical-align: middle;\n",
       "    }\n",
       "\n",
       "    .dataframe tbody tr th {\n",
       "        vertical-align: top;\n",
       "    }\n",
       "\n",
       "    .dataframe thead th {\n",
       "        text-align: right;\n",
       "    }\n",
       "</style>\n",
       "<table border=\"1\" class=\"dataframe\">\n",
       "  <thead>\n",
       "    <tr style=\"text-align: right;\">\n",
       "      <th></th>\n",
       "      <th>gender</th>\n",
       "      <th>race_ethnicity</th>\n",
       "      <th>parental_level_of_education</th>\n",
       "      <th>math_score</th>\n",
       "      <th>reading_score</th>\n",
       "      <th>writing_score</th>\n",
       "    </tr>\n",
       "  </thead>\n",
       "  <tbody>\n",
       "    <tr>\n",
       "      <th>0</th>\n",
       "      <td>female</td>\n",
       "      <td>group B</td>\n",
       "      <td>bachelor's degree</td>\n",
       "      <td>72</td>\n",
       "      <td>72</td>\n",
       "      <td>74</td>\n",
       "    </tr>\n",
       "    <tr>\n",
       "      <th>1</th>\n",
       "      <td>female</td>\n",
       "      <td>group C</td>\n",
       "      <td>some college</td>\n",
       "      <td>69</td>\n",
       "      <td>90</td>\n",
       "      <td>88</td>\n",
       "    </tr>\n",
       "    <tr>\n",
       "      <th>2</th>\n",
       "      <td>female</td>\n",
       "      <td>group B</td>\n",
       "      <td>master's degree</td>\n",
       "      <td>90</td>\n",
       "      <td>95</td>\n",
       "      <td>93</td>\n",
       "    </tr>\n",
       "    <tr>\n",
       "      <th>3</th>\n",
       "      <td>male</td>\n",
       "      <td>group A</td>\n",
       "      <td>associate's degree</td>\n",
       "      <td>47</td>\n",
       "      <td>57</td>\n",
       "      <td>44</td>\n",
       "    </tr>\n",
       "  </tbody>\n",
       "</table>\n",
       "</div>"
      ],
      "text/plain": [
       "   gender race_ethnicity parental_level_of_education  math_score  \\\n",
       "0  female        group B           bachelor's degree          72   \n",
       "1  female        group C                some college          69   \n",
       "2  female        group B             master's degree          90   \n",
       "3    male        group A          associate's degree          47   \n",
       "\n",
       "   reading_score  writing_score  \n",
       "0             72             74  \n",
       "1             90             88  \n",
       "2             95             93  \n",
       "3             57             44  "
      ]
     },
     "execution_count": 95,
     "metadata": {},
     "output_type": "execute_result"
    }
   ],
   "source": [
    "drop.head(4)"
   ]
  },
  {
   "cell_type": "code",
   "execution_count": 90,
   "id": "04fd2732-fe35-4d42-aa27-b91c3a1a2561",
   "metadata": {},
   "outputs": [
    {
     "data": {
      "text/html": [
       "<div>\n",
       "<style scoped>\n",
       "    .dataframe tbody tr th:only-of-type {\n",
       "        vertical-align: middle;\n",
       "    }\n",
       "\n",
       "    .dataframe tbody tr th {\n",
       "        vertical-align: top;\n",
       "    }\n",
       "\n",
       "    .dataframe thead th {\n",
       "        text-align: right;\n",
       "    }\n",
       "</style>\n",
       "<table border=\"1\" class=\"dataframe\">\n",
       "  <thead>\n",
       "    <tr style=\"text-align: right;\">\n",
       "      <th></th>\n",
       "      <th>Description</th>\n",
       "      <th>Result</th>\n",
       "    </tr>\n",
       "  </thead>\n",
       "  <tbody>\n",
       "    <tr>\n",
       "      <th>0</th>\n",
       "      <td>The total average across all tests is</td>\n",
       "      <td>67.763333</td>\n",
       "    </tr>\n",
       "  </tbody>\n",
       "</table>\n",
       "</div>"
      ],
      "text/plain": [
       "                             Description     Result\n",
       "0  The total average across all tests is  67.763333"
      ]
     },
     "execution_count": 90,
     "metadata": {},
     "output_type": "execute_result"
    }
   ],
   "source": [
    "\n",
    "maths_mean = 66.08\n",
    "writing_mean = 68.05\n",
    "reading_mean = 69.16\n",
    "total_average_of_tests = (maths_mean + writing_mean + reading_mean)/3\n",
    "\n",
    "frame20 = pd.DataFrame(dataset)\n",
    "total_average_of_tests = pd.DataFrame({\n",
    "     \"Description\": [\"The total average across all tests is\"],\n",
    "     \"Result\": [total_average_of_tests]\n",
    "})\n",
    "total_average_of_tests"
   ]
  },
  {
   "cell_type": "code",
   "execution_count": 92,
   "id": "b3553031-8e5f-49c7-94df-28b78dea8ccf",
   "metadata": {},
   "outputs": [
    {
     "data": {
      "text/html": [
       "<div>\n",
       "<style scoped>\n",
       "    .dataframe tbody tr th:only-of-type {\n",
       "        vertical-align: middle;\n",
       "    }\n",
       "\n",
       "    .dataframe tbody tr th {\n",
       "        vertical-align: top;\n",
       "    }\n",
       "\n",
       "    .dataframe thead th {\n",
       "        text-align: right;\n",
       "    }\n",
       "</style>\n",
       "<table border=\"1\" class=\"dataframe\">\n",
       "  <thead>\n",
       "    <tr style=\"text-align: right;\">\n",
       "      <th></th>\n",
       "      <th>math_score</th>\n",
       "      <th>reading_score</th>\n",
       "      <th>writing_score</th>\n",
       "    </tr>\n",
       "    <tr>\n",
       "      <th>parental_level_of_education</th>\n",
       "      <th></th>\n",
       "      <th></th>\n",
       "      <th></th>\n",
       "    </tr>\n",
       "  </thead>\n",
       "  <tbody>\n",
       "    <tr>\n",
       "      <th>associate's degree</th>\n",
       "      <td>67.882883</td>\n",
       "      <td>70.927928</td>\n",
       "      <td>69.896396</td>\n",
       "    </tr>\n",
       "    <tr>\n",
       "      <th>bachelor's degree</th>\n",
       "      <td>69.389831</td>\n",
       "      <td>73.000000</td>\n",
       "      <td>73.381356</td>\n",
       "    </tr>\n",
       "    <tr>\n",
       "      <th>high school</th>\n",
       "      <td>62.137755</td>\n",
       "      <td>64.704082</td>\n",
       "      <td>62.448980</td>\n",
       "    </tr>\n",
       "    <tr>\n",
       "      <th>master's degree</th>\n",
       "      <td>69.745763</td>\n",
       "      <td>75.372881</td>\n",
       "      <td>75.677966</td>\n",
       "    </tr>\n",
       "    <tr>\n",
       "      <th>some college</th>\n",
       "      <td>67.128319</td>\n",
       "      <td>69.460177</td>\n",
       "      <td>68.840708</td>\n",
       "    </tr>\n",
       "    <tr>\n",
       "      <th>some high school</th>\n",
       "      <td>63.497207</td>\n",
       "      <td>66.938547</td>\n",
       "      <td>64.888268</td>\n",
       "    </tr>\n",
       "  </tbody>\n",
       "</table>\n",
       "</div>"
      ],
      "text/plain": [
       "                             math_score  reading_score  writing_score\n",
       "parental_level_of_education                                          \n",
       "associate's degree            67.882883      70.927928      69.896396\n",
       "bachelor's degree             69.389831      73.000000      73.381356\n",
       "high school                   62.137755      64.704082      62.448980\n",
       "master's degree               69.745763      75.372881      75.677966\n",
       "some college                  67.128319      69.460177      68.840708\n",
       "some high school              63.497207      66.938547      64.888268"
      ]
     },
     "execution_count": 92,
     "metadata": {},
     "output_type": "execute_result"
    }
   ],
   "source": [
    "dataset.groupby([\"parental_level_of_education\"])[[\"math_score\", \"reading_score\", \"writing_score\"]].mean()"
   ]
  },
  {
   "cell_type": "code",
   "execution_count": 96,
   "id": "9130bd33-4163-4e37-8951-156c5c3138bd",
   "metadata": {},
   "outputs": [
    {
     "data": {
      "text/html": [
       "<div>\n",
       "<style scoped>\n",
       "    .dataframe tbody tr th:only-of-type {\n",
       "        vertical-align: middle;\n",
       "    }\n",
       "\n",
       "    .dataframe tbody tr th {\n",
       "        vertical-align: top;\n",
       "    }\n",
       "\n",
       "    .dataframe thead th {\n",
       "        text-align: right;\n",
       "    }\n",
       "</style>\n",
       "<table border=\"1\" class=\"dataframe\">\n",
       "  <thead>\n",
       "    <tr style=\"text-align: right;\">\n",
       "      <th></th>\n",
       "      <th>Description</th>\n",
       "      <th>Result</th>\n",
       "    </tr>\n",
       "  </thead>\n",
       "  <tbody>\n",
       "    <tr>\n",
       "      <th>0</th>\n",
       "      <td>masters_degree</td>\n",
       "      <td>65.100000</td>\n",
       "    </tr>\n",
       "    <tr>\n",
       "      <th>1</th>\n",
       "      <td>bachelor_degree</td>\n",
       "      <td>71.920000</td>\n",
       "    </tr>\n",
       "    <tr>\n",
       "      <th>2</th>\n",
       "      <td>associate_degree</td>\n",
       "      <td>69.563333</td>\n",
       "    </tr>\n",
       "    <tr>\n",
       "      <th>3</th>\n",
       "      <td>some_college</td>\n",
       "      <td>68.473333</td>\n",
       "    </tr>\n",
       "    <tr>\n",
       "      <th>4</th>\n",
       "      <td>high_school</td>\n",
       "      <td>63.090000</td>\n",
       "    </tr>\n",
       "    <tr>\n",
       "      <th>5</th>\n",
       "      <td>some_high_school</td>\n",
       "      <td>65.100000</td>\n",
       "    </tr>\n",
       "  </tbody>\n",
       "</table>\n",
       "</div>"
      ],
      "text/plain": [
       "        Description     Result\n",
       "0    masters_degree  65.100000\n",
       "1   bachelor_degree  71.920000\n",
       "2  associate_degree  69.563333\n",
       "3      some_college  68.473333\n",
       "4       high_school  63.090000\n",
       "5  some_high_school  65.100000"
      ]
     },
     "execution_count": 96,
     "metadata": {},
     "output_type": "execute_result"
    }
   ],
   "source": [
    "dataframe = pd.DataFrame(drop)\n",
    "\n",
    "masters_degree = (69.74 + 75.37 + 75.67)/3\n",
    "bachelor_degree = (69.38 + 73.00 + 73.38)/3\n",
    "associate_degree = (67.88 + 70.92 + 69.89)/3\n",
    "some_college = (67.12 + 69.46 + 68.84)/3\n",
    "high_school = (62.13 + 64.70 + 62.44)/3\n",
    "some_high_school = (63.49 + 66.93 + 64.88)/3\n",
    "\n",
    "performance_per_parental_education = pd.DataFrame({\n",
    "     \"Description\": [\"masters_degree\", \"bachelor_degree\", \"associate_degree\", \"some_college\", \"high_school\", \"some_high_school\"],\n",
    "     \"Result\": [some_high_school, bachelor_degree, associate_degree, some_college, high_school, some_high_school]\n",
    "})\n",
    "performance_per_parental_education"
   ]
  },
  {
   "cell_type": "code",
   "execution_count": null,
   "id": "ea929514-21f5-4a81-96ea-74b15e31a513",
   "metadata": {},
   "outputs": [],
   "source": []
  },
  {
   "cell_type": "code",
   "execution_count": 123,
   "id": "9c6bc4c7-51b3-4c88-b26c-b5ba5d871a32",
   "metadata": {},
   "outputs": [
    {
     "data": {
      "image/png": "[encoded data removed]",
      "text/plain": [
       "<Figure size 400x400 with 1 Axes>"
      ]
     },
     "metadata": {},
     "output_type": "display_data"
    }
   ],
   "source": [
    "data_for_bar_graph = performance_per_parental_education.groupby('Description')['Result'].mean()\n",
    "\n",
    "descriptions = data_for_bar_graph.index.to_numpy()\n",
    "average_results = data_for_bar_graph.to_numpy()\n",
    "\n",
    "plt.figure(figsize=(4, 4))\n",
    "plt.bar(descriptions, average_results, color='skyblue')\n",
    "\n",
    "plt.title(\"Average Result by Parental_level_of_education\", fontsize=12)\n",
    "plt.xlabel(\"Description\", fontsize=12)\n",
    "plt.ylabel(\"Average Result\", fontsize=12)\n",
    "plt.xticks(rotation=45, ha='right', fontsize=12)\n",
    "plt.grid(axis='y', linestyle='--', alpha=0.6)\n",
    "plt.tight_layout()\n",
    "\n",
    "plt.show()"
   ]
  },
  {
   "cell_type": "markdown",
   "id": "d68bc9f3-0eda-4d52-a40a-405dde25ac21",
   "metadata": {},
   "source": [
    "## Findings:\n",
    "\n",
    "Student performance is not directly related to parental level of education because parents with the highest degree which is \n",
    "a Masters Degree their children performed below average when comparing the total average in all the tests. while it also suggest that\n",
    "parents who had no exprience with higher education and their level of education is high school or incomplete high school their children scored below average."
   ]
  },
  {
   "cell_type": "markdown",
   "id": "295bb774-7379-46a7-bd64-4cb8d4db957a",
   "metadata": {},
   "source": [
    "# Self-Reflection"
   ]
  },
  {
   "cell_type": "markdown",
   "id": "7fe251e0-a59e-4f9a-9526-34b96189f637",
   "metadata": {},
   "source": [
    "## Python VS Excel:\n",
    "\n",
    "### Python\n",
    "\n",
    "Python is a level programming langauge, this langauge uses very human-like syntax which makes it easier to read and \n",
    "understand unlike low-level langauges, Python is a very vesitile programming language which is not restricted to one\n",
    "purpse we can see the language being used in different industries such as data science, web development, software\n",
    "development or game developmen.\n",
    "\n",
    "#### the benefits of using python\n",
    "\n",
    "**readability** - unlike most low-level programming languages, I find python very simple to read as the syntax is human-like\n",
    "and it was very simple for me to learn and understand what is going on.\n",
    "\n",
    "**Libraries** - Python has a lot of libraries that i could import to make to do descriptive statics and mathematics equations,\n",
    "these libraries also create visuals for the data such as using creating data frames using pandas library.\n",
    "\n",
    "**Large dataset** - Python is a good language for data analysis which working with huge datasets, the language is very responsive \n",
    "and can effectively handle large datasets with little to no errors.\n",
    "\n",
    "### Excel"
   ]
  },
  {
   "cell_type": "markdown",
   "id": "a08377e4-f5e9-40e2-8434-4ed57aca7a70",
   "metadata": {},
   "source": [
    "Excel is a spreadsheet application tool created by Microsoft, it is a versitile application which is used for many different purposes\n",
    "and also used for analysis with data, it is very user-friendly and does not require the user to understand and know programming in \n",
    "order to start using excel for data analysis.\n",
    "\n",
    "#### The benefits of using excel\n",
    "\n",
    "**User-friendly** - Excel has a very user-friendly interface only if you understand what is going on or else it is very confusing since it \n",
    "has lots of components to it since it does not require users to program the functions\n",
    "\n",
    "**Formulas and Function** - Excel offers a range of functions and formulas for data analysis which are built-in and can reduce lots of time \n",
    "of manually puting in formulas.\n",
    "\n",
    "**Data Visualisation** Using excel is very easy to create visuals, the user would just highlight the data they want to use and click on different tyoes of visuals and excel will plot everything unlike python where you need to manually code the visuals and label them.\n"
   ]
  },
  {
   "cell_type": "markdown",
   "id": "482c9295-8c22-4864-900b-a7e45d248889",
   "metadata": {},
   "source": [
    "## Assignment 1 vs Assignment 2\n",
    "\n",
    "**Assignment 1** focused on excel and the aim was to do descriptive analysis, I would prefer working with excel if im in a team of\n",
    "non-technical people and if the diverables mostly rely on visuals and if the data is not to complex.\n",
    "\n",
    "**Assignment 2** Focused on Python programming language and the aim was too do descriptive analysis, I would prefer using python because it is very responsive and i like that it is a high-level langauge which makes it easier to learn unlike other languages.\n",
    "\n",
    "## Gaps in statistics and programming knowledge\n",
    "\n",
    "I really find it how to practically explain cofficient properly which makes it difficult for me to draw conclusions from a scatter plot,\n",
    "i also dont understand how to work with categorical data in a dataset meaning understanding how a categorical data may relate to numeric data "
   ]
  },
  {
   "cell_type": "markdown",
   "id": "a371a1a4-8b61-43d6-9d2e-9e997edc000b",
   "metadata": {},
   "source": []
  }
 ],
 "metadata": {
  "kernelspec": {
   "display_name": "Python 3 (ipykernel)",
   "language": "python",
   "name": "python3"
  },
  "language_info": {
   "codemirror_mode": {
    "name": "ipython",
    "version": 3
   },
   "file_extension": ".py",
   "mimetype": "text/x-python",
   "name": "python",
   "nbconvert_exporter": "python",
   "pygments_lexer": "ipython3",
   "version": "3.11.7"
  }
 },
 "nbformat": 4,
 "nbformat_minor": 5
}
